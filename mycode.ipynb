{
 "cells": [
  {
   "cell_type": "code",
   "execution_count": 59,
   "metadata": {},
   "outputs": [],
   "source": [
    "import pandas as pd\n",
    "import matplotlib.pyplot as plt"
   ]
  },
  {
   "cell_type": "code",
   "execution_count": 60,
   "metadata": {},
   "outputs": [],
   "source": [
    "#method for loading the csv dataset\n",
    "def load_dataset(address):\n",
    "    dataset=pd.read_csv(address)\n",
    "    return dataset"
   ]
  },
  {
   "cell_type": "code",
   "execution_count": 61,
   "metadata": {},
   "outputs": [],
   "source": [
    "#method for merging different DataFrame\n",
    "def dataset_merge(loan_data,home_ownership_data):\n",
    "    dataset_final=pd.merge(loan_data, home_ownership_data, how='left', on='member_id')\n",
    "    return dataset_final"
   ]
  },
  {
   "cell_type": "code",
   "execution_count": 62,
   "metadata": {},
   "outputs": [],
   "source": [
    "#method for getting the average loan amounts of the certain ownership type\n",
    "def get_average(dataset_final,ownership_type):\n",
    "    return dataset_final.loc[dataset_final['home_ownership']==ownership_type,\n",
    "                             'loan_amnt'].mean() \n",
    "        "
   ]
  },
  {
   "cell_type": "code",
   "execution_count": 63,
   "metadata": {},
   "outputs": [],
   "source": [
    "#method for plotting the bar plot\n",
    "def plot_data(df_result):\n",
    "    df_result.plot.bar(x=\"home_ownership\",y=\"loan_amnt\",\n",
    "               title='Average loan amounts per ownership')\n",
    "    plt.show()"
   ]
  },
  {
   "cell_type": "code",
   "execution_count": 64,
   "metadata": {},
   "outputs": [],
   "source": [
    "#load the loan_data.csv\n",
    "loan_data=load_dataset(\"/Users/elva/Desktop/mais-202-coding-challenge-f2019-master/loan_data.csv\")"
   ]
  },
  {
   "cell_type": "code",
   "execution_count": 65,
   "metadata": {},
   "outputs": [],
   "source": [
    "#load the home_ownership_data.csv\n",
    "home_ownership_data=load_dataset(\"/Users/elva/Desktop/mais-202-coding-challenge-f2019-master/home_ownership_data.csv\")"
   ]
  },
  {
   "cell_type": "code",
   "execution_count": 66,
   "metadata": {},
   "outputs": [],
   "source": [
    "#merge the loan_data.csv and the home_ownership_data.csv\n",
    "dataset_final=dataset_merge(loan_data,home_ownership_data)"
   ]
  },
  {
   "cell_type": "code",
   "execution_count": 67,
   "metadata": {},
   "outputs": [],
   "source": [
    "#get the average loan amounts for RENT, MORTGAGE and OWN\n",
    "RENT_mean=get_average(dataset_final,\"RENT\")\n",
    "MORTGAGE_mean=get_average(dataset_final,\"MORTGAGE\")\n",
    "OWN_mean=get_average(dataset_final,\"OWN\")"
   ]
  },
  {
   "cell_type": "code",
   "execution_count": 68,
   "metadata": {},
   "outputs": [],
   "source": [
    "#build the DataFrame containing information \n",
    "#about ownership and averageloan amounts respectively\n",
    "result={'home_ownership':[\"MORTGAGE\",\"OWN\",\"RENT\"],\n",
    "           'loan_amnt':[MORTGAGE_mean,OWN_mean,RENT_mean]}"
   ]
  },
  {
   "cell_type": "code",
   "execution_count": 69,
   "metadata": {},
   "outputs": [],
   "source": [
    "\n",
    "df_result=pd.DataFrame(result)\n"
   ]
  },
  {
   "cell_type": "code",
   "execution_count": 70,
   "metadata": {},
   "outputs": [
    {
     "data": {
      "text/html": [
       "<div>\n",
       "<style scoped>\n",
       "    .dataframe tbody tr th:only-of-type {\n",
       "        vertical-align: middle;\n",
       "    }\n",
       "\n",
       "    .dataframe tbody tr th {\n",
       "        vertical-align: top;\n",
       "    }\n",
       "\n",
       "    .dataframe thead th {\n",
       "        text-align: right;\n",
       "    }\n",
       "</style>\n",
       "<table border=\"1\" class=\"dataframe\">\n",
       "  <thead>\n",
       "    <tr style=\"text-align: right;\">\n",
       "      <th></th>\n",
       "      <th>home_ownership</th>\n",
       "      <th>loan_amnt</th>\n",
       "    </tr>\n",
       "  </thead>\n",
       "  <tbody>\n",
       "    <tr>\n",
       "      <th>0</th>\n",
       "      <td>MORTGAGE</td>\n",
       "      <td>13502.830189</td>\n",
       "    </tr>\n",
       "    <tr>\n",
       "      <th>1</th>\n",
       "      <td>OWN</td>\n",
       "      <td>9603.571429</td>\n",
       "    </tr>\n",
       "    <tr>\n",
       "      <th>2</th>\n",
       "      <td>RENT</td>\n",
       "      <td>11067.481203</td>\n",
       "    </tr>\n",
       "  </tbody>\n",
       "</table>\n",
       "</div>"
      ],
      "text/plain": [
       "  home_ownership     loan_amnt\n",
       "0       MORTGAGE  13502.830189\n",
       "1            OWN   9603.571429\n",
       "2           RENT  11067.481203"
      ]
     },
     "execution_count": 70,
     "metadata": {},
     "output_type": "execute_result"
    }
   ],
   "source": [
    "#print the result DataFrame\n",
    "df_result"
   ]
  },
  {
   "cell_type": "code",
   "execution_count": 71,
   "metadata": {},
   "outputs": [
    {
     "data": {
      "image/png": "[encoded data removed]",
      "text/plain": [
       "<Figure size 432x288 with 1 Axes>"
      ]
     },
     "metadata": {
      "needs_background": "light"
     },
     "output_type": "display_data"
    }
   ],
   "source": [
    "#plot the result bar plot\n",
    "plot_data(df_result)"
   ]
  },
  {
   "cell_type": "code",
   "execution_count": null,
   "metadata": {},
   "outputs": [],
   "source": []
  }
 ],
 "metadata": {
  "kernelspec": {
   "display_name": "Python 3",
   "language": "python",
   "name": "python3"
  },
  "language_info": {
   "codemirror_mode": {
    "name": "ipython",
    "version": 3
   },
   "file_extension": ".py",
   "mimetype": "text/x-python",
   "name": "python",
   "nbconvert_exporter": "python",
   "pygments_lexer": "ipython3",
   "version": "3.7.3"
  }
 },
 "nbformat": 4,
 "nbformat_minor": 2
}
